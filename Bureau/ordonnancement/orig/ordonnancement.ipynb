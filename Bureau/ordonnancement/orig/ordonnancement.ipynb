{
 "cells": [
  {
   "cell_type": "markdown",
   "source": [
    "On s’intéresse aux processus et à leur ordonnancement au sein d'un système d'exploitation.\n",
    "On considère ici qu’on utilise un monoprocesseur.\n",
    "\n",
    "1. Citer les 3 états dans lesquels un processus peut se trouver."
   ],
   "metadata": {
    "collapsed": false
   }
  },
  {
   "cell_type": "code",
   "execution_count": 2,
   "outputs": [],
   "source": [
    "# NON DONNE DANS LE SUJET\n",
    "\n",
    "class Processus:\n",
    "    def __init__(self, nom: str, duree: int, priorite: int = 0):\n",
    "        self.nom = nom\n",
    "        self.duree = duree\n",
    "        self.priorite = priorite\n",
    "        self.reste = duree\n",
    "\n",
    "    def execute_un_cycle(self):\n",
    "        self.reste -= 1\n",
    "\n",
    "    def est_fini(self) -> bool:\n",
    "        return self.reste == 0\n"
   ],
   "metadata": {
    "collapsed": false,
    "ExecuteTime": {
     "end_time": "2023-07-17T15:56:01.848143200Z",
     "start_time": "2023-07-17T15:56:01.839630700Z"
    }
   }
  },
  {
   "cell_type": "markdown",
   "source": [
    "\n",
    "On veut simuler cet ordonnancement avec des objets.\n",
    "Pour ce faire, on dispose déjà de la classe suivante, dont voici la documentation :\n",
    "\n",
    "Classe Processus:\n",
    "```\n",
    "p = Processus(nom: str, duree: int)\n",
    "    Crée un processus de nom <nom> et de durée <duree> (exprimée en cycles d'ordonnancement)\n",
    "\n",
    "p.execute_un_cycle()\n",
    "    Exécute le processus donné pendant un cycle.\n",
    "\n",
    "p.est_fini()\n",
    "    Renvoie True si le processus est terminé, False sinon.\n",
    "```\n",
    "Pour simplifier, on ne s'intéresse pas aux ressources qu'un processus pourrait acquérir ou libérer.\n",
    "\n",
    "2. Citer les seuls 2 états possibles pour un processus dans ce contexte."
   ],
   "metadata": {
    "collapsed": false
   }
  },
  {
   "cell_type": "markdown",
   "source": [
    "Pour mettre en place l'ordonnancement, on décide d'utiliser une file, instance de la classe `File` ci-dessous."
   ],
   "metadata": {
    "collapsed": false
   }
  },
  {
   "cell_type": "code",
   "execution_count": 3,
   "outputs": [],
   "source": [
    "class File:\n",
    "    def __init__(self):\n",
    "        \"\"\" Renvoie une file vide \"\"\"\n",
    "        self.contenu = []\n",
    "\n",
    "    def enfile(self, element):\n",
    "        \"\"\" Enfile element dans la file \"\"\"\n",
    "        self.contenu.append(element)\n",
    "\n",
    "    def defile(self):\n",
    "        \"\"\" Renvoie le premier élément de la file \"\"\"\n",
    "        return self.contenu.pop(0)\n",
    "\n",
    "    def est_vide(self):\n",
    "        \"\"\" Renvoie True si la file est vide, False sinon \"\"\"\n",
    "        return self.contenu == []"
   ],
   "metadata": {
    "collapsed": false,
    "ExecuteTime": {
     "end_time": "2023-07-17T15:56:02.549007400Z",
     "start_time": "2023-07-17T15:56:02.544001600Z"
    }
   }
  },
  {
   "cell_type": "markdown",
   "source": [
    "Lors de la phase de tests, on se rend compte que le code suivant produit une erreur :\n",
    "\n",
    "```\n",
    "f = File()\n",
    "print(f.defile())\n",
    "```\n",
    "\n",
    "3. Indiquer sur votre copie le code de la méthode `defile` rectifié pour que le code précédent ne produise plus d'erreur."
   ],
   "metadata": {
    "collapsed": false
   }
  },
  {
   "cell_type": "markdown",
   "source": [
    "On se propose d'ordonnancer les processus avec une méthode du type *tourniquet*. À chaque cycle ;\n",
    "- si un nouveau processus est créé, il est mis dans la file d'attente ;\n",
    "- ensuite, on défile un processus de la file d'attente et on l'exécute pendant un cycle ;\n",
    "- si le processus exécuté n'est pas terminé, on le replace dans la file.\n",
    "\n",
    "Par exemple, avec les processus suivants\n",
    "\n",
    "| processus | cycle de création | durée en cycles |\n",
    "|:---------:|:-----------------:|:---------------:|\n",
    "|    p1     |         2         |        3        |\n",
    "|    p2     |         1         |        4        |\n",
    "|    p3     |         4         |        3        |\n",
    "|    p1     |         0         |        5        |\n",
    "\n",
    "On obtient le chronogramme ci-dessous :\n",
    "\n",
    "![chronogramme](img/00.png)\n",
    "\n",
    "Pour décrire les processus et le moment de leur création, on utilise le code suivant, dans lequel `depart_proc` associe à un cycle donné le processus qui sera créé à ce moment :"
   ],
   "metadata": {
    "collapsed": false
   }
  },
  {
   "cell_type": "code",
   "execution_count": 4,
   "outputs": [],
   "source": [
    "p1 = Processus(\"p1\", 4)\n",
    "p2 = Processus(\"p2\", 3)\n",
    "p3 = Processus(\"p3\", 5)\n",
    "p4 = Processus(\"p4\", 3)\n",
    "\n",
    "depart_proc = {0: p1, 2: p2, 1: p3, 3: p4}"
   ],
   "metadata": {
    "collapsed": false,
    "ExecuteTime": {
     "end_time": "2023-07-17T15:56:03.333464700Z",
     "start_time": "2023-07-17T15:56:03.328956300Z"
    }
   }
  },
  {
   "cell_type": "markdown",
   "source": [
    "4. Compléter le chronogramme suivant\n",
    "\n",
    "![chronogramme](img/01.png)"
   ],
   "metadata": {
    "collapsed": false
   }
  },
  {
   "cell_type": "code",
   "execution_count": 5,
   "outputs": [],
   "source": [
    "# NON DONNE DANS LE SUJET\n",
    "\n",
    "class Ordonnanceur:\n",
    "\n",
    "    def __init__(self):\n",
    "        self.temps = 0\n",
    "        self.file = File()\n",
    "\n",
    "    def ajoute_nouveau_processus(self, proc: Processus):\n",
    "        self.file.enfile(proc)\n",
    "\n",
    "    def tourniquet(self) -> str | None:\n",
    "        self.temps += 1\n",
    "        if not self.file.est_vide():\n",
    "            proc: Processus = self.file.defile()\n",
    "            proc.execute_un_cycle()\n",
    "            if not proc.est_fini():\n",
    "                self.file.enfile(proc)\n",
    "            return proc.nom"
   ],
   "metadata": {
    "collapsed": false,
    "ExecuteTime": {
     "end_time": "2023-07-17T15:56:07.023828Z",
     "start_time": "2023-07-17T15:56:07.018319800Z"
    }
   }
  },
  {
   "cell_type": "markdown",
   "source": [
    "Pour mettre en place l'ordonnancement suivant cette méthode, on écrit la classe `Ordonnanceur` dont voici un code incomplet :\n",
    "\n",
    "```\n",
    "class Ordonnanceur:\n",
    "\n",
    "    def __init__(self):\n",
    "        self.temps = 0\n",
    "        self.file = File()\n",
    "\n",
    "    def ajoute_nouveau_processus(self, proc: Processus):\n",
    "        ...\n",
    "\n",
    "    def tourniquet(self) -> str | None:\n",
    "        self.temps = ...\n",
    "        if not self.file.est_vide():\n",
    "            proc = ...\n",
    "            ...\n",
    "            if not proc.est_fini():\n",
    "                ...\n",
    "            return proc.nom\n",
    "        else:\n",
    "            return None\n",
    "```\n",
    "\n",
    "5. Compléter le code ci-dessus.\n",
    "\n",
    "À chaque appel de la méthode `tourniquet` celle-ci renvoie ou bien le nom du processus qui a été élu, ou bien `None` s'il n'a pas trouvé de processus en cours.\n",
    "\n",
    "6. Écrire un programme qui\n",
    "- utilise les variables `p1`, `p2`, `p3`, `p4` et `depart_proc` définies ci-dessus ;\n",
    "- crée un ordonnanceur ;\n",
    "- ajoute un nouveau processus à l'ordonnanceur lorsque c'est le moment ;\n",
    "- affiche le processus choisi par l'ordonnanceur ;\n",
    "- s'arrête lorsqu'il n'y a plus de processus à exécuter."
   ],
   "metadata": {
    "collapsed": false
   }
  },
  {
   "cell_type": "code",
   "execution_count": 6,
   "outputs": [
    {
     "name": "stdout",
     "output_type": "stream",
     "text": [
      "p1 p1 p3 p1 p2 p3 p4 p1 p2 p3 p4 p2 p3 p4 p3 "
     ]
    }
   ],
   "source": [
    "ordonnanceur = Ordonnanceur()\n",
    "\n",
    "fini = False\n",
    "while not fini:\n",
    "    if ordonnanceur.temps in depart_proc:\n",
    "        ordonnanceur.ajoute_nouveau_processus(depart_proc[ordonnanceur.temps])\n",
    "    elu = ordonnanceur.tourniquet()\n",
    "    if elu:\n",
    "        print(elu, end=\" \")\n",
    "    else:\n",
    "        fini = True\n"
   ],
   "metadata": {
    "collapsed": false,
    "ExecuteTime": {
     "end_time": "2023-07-17T15:56:09.213096700Z",
     "start_time": "2023-07-17T15:56:09.208588900Z"
    }
   }
  },
  {
   "cell_type": "markdown",
   "source": [
    "Dans la situation donnée en exemple, il s'avère qu'en fait, les processus utilisent des ressources :\n",
    "- un fichier commun aux processus ;\n",
    "- le clavier de l'ordinateur ;\n",
    "- le processeur graphique (GPU) ;\n",
    "- le port 25000 de la connexion Internet.\n",
    "\n",
    "Voici le détail de ce que fait chaque processus :\n",
    "\n",
    "|         p1         |          p2          |        p3         |         p4          |\n",
    "|:------------------:|:--------------------:|:-----------------:|:-------------------:|\n",
    "|  acquérir le GPU   | acquérir le  clavier | acquerir le port  | acquérir le fichier |\n",
    "| faire des calculs  |  aquérir le fichier  | faire des calculs |  faire des calculs  |\n",
    "|   libérer le GPU   | libérer le clavier   | libérer le port   | acquérir le clavier |\n",
    "|                    |  libérer le fichier  |                   | libérer le clavier  |\n",
    "|                    |                      |                   | libérer le fichier  |\n",
    "\n",
    "7. Montrer que l'ordre d'exécution donné en exemple aboutit à une situation d'interblocage."
   ],
   "metadata": {
    "collapsed": false
   }
  },
  {
   "cell_type": "code",
   "execution_count": null,
   "outputs": [],
   "source": [],
   "metadata": {
    "collapsed": false
   }
  }
 ],
 "metadata": {
  "kernelspec": {
   "display_name": "Python 3",
   "language": "python",
   "name": "python3"
  },
  "language_info": {
   "codemirror_mode": {
    "name": "ipython",
    "version": 2
   },
   "file_extension": ".py",
   "mimetype": "text/x-python",
   "name": "python",
   "nbconvert_exporter": "python",
   "pygments_lexer": "ipython2",
   "version": "2.7.6"
  }
 },
 "nbformat": 4,
 "nbformat_minor": 0
}
