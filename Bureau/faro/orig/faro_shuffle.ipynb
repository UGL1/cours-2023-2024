{
 "cells": [
  {
   "cell_type": "markdown",
   "source": [
    "Le *mélange faro* consiste à partager un jeu de cartes en deux moitiés et intercaler les cartes des deux moitiés. On suppose que le nombre de cartes est pair.\n",
    "\n",
    "Pour modéliser le jeu de cartes, on décide d'utiliser une pile qui sera une instance de la classe `Pile` dont voici un exemple d'utilisation :\n",
    "\n",
    "```python\n",
    "jeu = Pile() # crée une pile vide et la place dans jeu\n",
    "jeu.empile(1) # empile la valeur 1\n",
    "print(jeu.depile()) # dépile 1 et affiche cette valeur\n",
    "print(jeu.est_vide()) # affiche True puisque la pile est vide\n",
    "```"
   ],
   "metadata": {
    "collapsed": false
   }
  },
  {
   "cell_type": "code",
   "execution_count": 2,
   "outputs": [],
   "source": [
    "# NON DONNE DANS LE SUJET\n",
    "class Pile:\n",
    "    def __init__(self):\n",
    "        \"\"\" Creates an empty stack\"\"\"\n",
    "        self.content = []\n",
    "\n",
    "    def est_vide(self) -> bool:\n",
    "        \"\"\" Indicates whether the stack's empty or not \"\"\"\n",
    "        return self.content == []\n",
    "\n",
    "    def empile(self, value):\n",
    "        \"\"\" Pushes the value on the top of the stack \"\"\"\n",
    "        self.content.append(value)\n",
    "\n",
    "    def depile(self):\n",
    "        \"\"\" Retrieves the value from the top of the stack\"\"\"\n",
    "        if self.est_vide():\n",
    "            raise IndexError('Stack Empty')\n",
    "        return self.content.pop()\n",
    "\n",
    "    def __repr__(self):\n",
    "        if self.est_vide():\n",
    "            return \"<empty>\"\n",
    "        result = '-' * 20 + '\\n'\n",
    "        t = Pile()\n",
    "        while not self.est_vide():\n",
    "            v = self.depile()\n",
    "            t.empile(v)\n",
    "            result += '|' + str(v).center(18) + '|\\n'\n",
    "            result += '-' * 20 + '\\n'\n",
    "        while not t.est_vide():\n",
    "            self.empile(t.depile())\n",
    "        return result + '\\n'\n"
   ],
   "metadata": {
    "collapsed": false,
    "ExecuteTime": {
     "end_time": "2023-07-13T13:57:41.691828800Z",
     "start_time": "2023-07-13T13:57:41.648739800Z"
    }
   }
  },
  {
   "cell_type": "markdown",
   "source": [
    "On appelle $n$ le nombre de cartes dans le jeu, on rappelle que $n$ est *pair*.\n",
    "Le jeu de carte est alors modélisé par une pile appelée `jeu` de sommet 1, puis 2 en dessous, *et cætera* jusqu'au bas de la pile qui contient $n-1$.\n",
    "\n",
    "->>>>>>>>>>>>>>> Illustration\n",
    "\n",
    "Le mélange faro est alors réalisé ainsi :\n",
    "1. on dépile la moitié de `jeu` dans deuxième pile appelée `moitie1` ;\n",
    "2. on dépile le reste de `jeu` dans une troisième pile appelée `moitie2` ;\n",
    "3. on empile alternativement et dans cet ordre un élément de `moitie1` puis un élément de `moitie2` jusqu'à vider les 2 piles.\n",
    "\n",
    "\n",
    "# Question 1 (1pt)\n",
    "\n",
    "Les contenus initiaux de `jeu`, `moitie1` et `moitie2` sont représentés ci-dessous :\n",
    "\n",
    "->>>>>>>>illustration\n",
    "\n",
    "\n"
   ],
   "metadata": {
    "collapsed": false
   }
  },
  {
   "cell_type": "code",
   "execution_count": 2,
   "outputs": [],
   "source": [],
   "metadata": {
    "collapsed": false,
    "ExecuteTime": {
     "end_time": "2023-07-13T13:57:41.691828800Z",
     "start_time": "2023-07-13T13:57:41.651023Z"
    }
   }
  },
  {
   "cell_type": "markdown",
   "source": [
    "# Question 2 (1pt)\n",
    "\n",
    "Compléter le code de la fonction `produire_jeu` qui\n",
    "- en entrée prend un entier `n` supposé pair ;\n",
    "- renvoie une instance de la classe `Pile` qui représente le jeu de cartes.\n",
    "\n",
    "```python\n",
    "def produire_jeu(n: int) -> Pile:\n",
    "    resultat = Pile()\n",
    "    for i in range(n, ...):\n",
    "        resultat.empile(...)\n",
    "    return resultat\n",
    "```"
   ],
   "metadata": {
    "collapsed": false
   }
  },
  {
   "cell_type": "code",
   "execution_count": 3,
   "outputs": [],
   "source": [
    "# NON DONNE DANS LE SUJET\n",
    "def produire_jeu(n: int) -> Pile:\n",
    "    resultat = Pile()\n",
    "    for i in range(n, 0, -1):\n",
    "        resultat.empile(i)\n",
    "    return resultat"
   ],
   "metadata": {
    "collapsed": false,
    "ExecuteTime": {
     "end_time": "2023-07-13T13:57:41.692830300Z",
     "start_time": "2023-07-13T13:57:41.655251Z"
    }
   }
  },
  {
   "cell_type": "code",
   "execution_count": 4,
   "outputs": [
    {
     "data": {
      "text/plain": "--------------------\n|        1         |\n--------------------\n|        2         |\n--------------------\n|        3         |\n--------------------\n|        4         |\n--------------------\n|        5         |\n--------------------\n|        6         |\n--------------------\n"
     },
     "execution_count": 4,
     "metadata": {},
     "output_type": "execute_result"
    }
   ],
   "source": [
    "# NON DONNE DANS LE SUJET\n",
    "jeu = produire_jeu(6)\n",
    "jeu"
   ],
   "metadata": {
    "collapsed": false,
    "ExecuteTime": {
     "end_time": "2023-07-13T13:57:41.694832100Z",
     "start_time": "2023-07-13T13:57:41.658662Z"
    }
   }
  },
  {
   "cell_type": "markdown",
   "source": [
    "# Question 3 (1pt)\n",
    "\n",
    "Ci-dessous figure le code de la fonction `scinder_jeu` qui\n",
    "- en entrée prend\n",
    "    - une instance de la classe `Pile` qui est le jeu que l'on veut partager en 2 moitiés ;\n",
    "    - un entier `n` qui est la taille de la pile.\n",
    "- renvoie 2 piles qui sont les deux moitiés du jeu.\n",
    "\n",
    "Ce code comporte des erreurs. Indiquer les numéros de lignes à rectifier ainsi que les rectifications à apporter.\n",
    "\n",
    "```\n",
    "1 def scinder_jeu(p, n):\n",
    "2   m1 = Pile()\n",
    "3   m2 = Pile()\n",
    "4   for i in range(n):\n",
    "5       m1.empile(p.depile())\n",
    "6   for i in range(n):\n",
    "7       m2.empile(p.depile())\n",
    "8   return m1, m2\n",
    "```\n"
   ],
   "metadata": {
    "collapsed": false
   }
  },
  {
   "cell_type": "code",
   "execution_count": 5,
   "outputs": [],
   "source": [
    "# NON DONNE DANS LE SUJET\n",
    "def scinder_jeu(p: Pile, n: int) -> tuple[Pile, Pile]:\n",
    "    m1 = Pile()\n",
    "    m2 = Pile()\n",
    "    for i in range(n // 2):\n",
    "        m1.empile(p.depile())\n",
    "    for i in range(n // 2):\n",
    "        m2.empile(p.depile())\n",
    "    return m1, m2"
   ],
   "metadata": {
    "collapsed": false,
    "ExecuteTime": {
     "end_time": "2023-07-13T13:57:41.704714800Z",
     "start_time": "2023-07-13T13:57:41.667646600Z"
    }
   }
  },
  {
   "cell_type": "code",
   "execution_count": 6,
   "outputs": [
    {
     "name": "stdout",
     "output_type": "stream",
     "text": [
      "--------------------\n",
      "|        3         |\n",
      "--------------------\n",
      "|        2         |\n",
      "--------------------\n",
      "|        1         |\n",
      "--------------------\n",
      "\n",
      "\n"
     ]
    },
    {
     "data": {
      "text/plain": "--------------------\n|        6         |\n--------------------\n|        5         |\n--------------------\n|        4         |\n--------------------\n"
     },
     "execution_count": 6,
     "metadata": {},
     "output_type": "execute_result"
    }
   ],
   "source": [
    "# NON DONNE DANS LE SUJET\n",
    "moitie1, moitie2 = scinder_jeu(jeu, 6)\n",
    "print(moitie1)\n",
    "moitie2"
   ],
   "metadata": {
    "collapsed": false,
    "ExecuteTime": {
     "end_time": "2023-07-13T13:57:41.769562Z",
     "start_time": "2023-07-13T13:57:41.672435200Z"
    }
   }
  },
  {
   "cell_type": "markdown",
   "source": [
    "# Question 4 (1pt)\n",
    "\n",
    "Donner le code de la fonction `recombiner` qui\n",
    "- en entrée prend deux instances `m1` et `m2`de la classe `Pile` qui sont respectivement la première et la deuxième moitié d'un jeu de cartes ;\n",
    "- renvoie une instance de la classe `Pile` qui est le jeu obtenu en y empilant alternativement et dans cet ordre les éléments de `m1` et de  `m2`."
   ],
   "metadata": {
    "collapsed": false
   }
  },
  {
   "cell_type": "code",
   "execution_count": 7,
   "outputs": [],
   "source": [
    "# NON DONNE DANS LE SUJET\n",
    "def combine(m1: Pile, m2: Pile) -> Pile:\n",
    "    resultat = Pile()\n",
    "    while not m1.est_vide():\n",
    "        resultat.empile(m1.depile())\n",
    "        resultat.empile(m2.depile())\n",
    "    return resultat"
   ],
   "metadata": {
    "collapsed": false,
    "ExecuteTime": {
     "end_time": "2023-07-13T13:57:41.804743100Z",
     "start_time": "2023-07-13T13:57:41.684709100Z"
    }
   }
  },
  {
   "cell_type": "code",
   "execution_count": 8,
   "outputs": [
    {
     "data": {
      "text/plain": "--------------------\n|        4         |\n--------------------\n|        1         |\n--------------------\n|        5         |\n--------------------\n|        2         |\n--------------------\n|        6         |\n--------------------\n|        3         |\n--------------------\n"
     },
     "execution_count": 8,
     "metadata": {},
     "output_type": "execute_result"
    }
   ],
   "source": [
    "# NON DONNE DANS LE SUJET\n",
    "jeu = produire_jeu(6)\n",
    "combine(*scinder_jeu(jeu, 6))"
   ],
   "metadata": {
    "collapsed": false,
    "ExecuteTime": {
     "end_time": "2023-07-13T13:57:41.813368100Z",
     "start_time": "2023-07-13T13:57:41.685710800Z"
    }
   }
  },
  {
   "cell_type": "markdown",
   "source": [
    "# Question 5 (1pt)\n",
    "\n",
    "Etant donnée ..."
   ],
   "metadata": {
    "collapsed": false
   }
  },
  {
   "cell_type": "code",
   "execution_count": 9,
   "outputs": [],
   "source": [
    "def faro(p: Pile, n) -> Pile:\n",
    "    m1, m2 = scinder_jeu(p, n)\n",
    "    return combine(m1, m2)"
   ],
   "metadata": {
    "collapsed": false,
    "ExecuteTime": {
     "end_time": "2023-07-13T13:57:41.813368100Z",
     "start_time": "2023-07-13T13:57:41.692830300Z"
    }
   }
  },
  {
   "cell_type": "code",
   "execution_count": 10,
   "outputs": [
    {
     "data": {
      "text/plain": "--------------------\n|        4         |\n--------------------\n|        1         |\n--------------------\n|        5         |\n--------------------\n|        2         |\n--------------------\n|        6         |\n--------------------\n|        3         |\n--------------------\n"
     },
     "execution_count": 10,
     "metadata": {},
     "output_type": "execute_result"
    }
   ],
   "source": [
    "jeu = produire_jeu(6)\n",
    "faro(jeu, 6)"
   ],
   "metadata": {
    "collapsed": false,
    "ExecuteTime": {
     "end_time": "2023-07-13T13:57:41.813368100Z",
     "start_time": "2023-07-13T13:57:41.698691800Z"
    }
   }
  },
  {
   "cell_type": "markdown",
   "source": [
    "Un résultat de mathématiques assure qu'étant donné un jeu de n cartes (n pair), en répétant suffisamment de fois le mélange faro, on finira par remettre le jeu dans l'ordre initial.\n",
    "On aimerait trouver, pour un entier n donné, ce nombre minimal de répétitions nécessaires. Pour cela, on se propose de coder une fonction `identiques` qui\n",
    "- en entrée prend 2 instances de la classe `Pile` ;\n",
    "- renvoie `True` si ces deux piles ont les mêmes éléments, en même nombre et dans le même ordre, et False sinon.\n",
    "\n",
    "# Question 6\n",
    "\n",
    "Ecrire la fonction `identiques` ( faire les tests )."
   ],
   "metadata": {
    "collapsed": false
   }
  },
  {
   "cell_type": "code",
   "execution_count": 11,
   "outputs": [],
   "source": [
    "def identiques(p1: Pile, p2: Pile) -> bool:\n",
    "    t1, t2 = Pile(), Pile()\n",
    "    resultat = True\n",
    "    while resultat and not p1.est_vide():\n",
    "        v1 = p1.depile()\n",
    "        t1.empile(v1)\n",
    "        if p2.est_vide():\n",
    "            resultat = False\n",
    "        else:\n",
    "            v2 = p2.depile()\n",
    "            t2.empile(v2)\n",
    "            if v1 != v2:\n",
    "                resultat = False\n",
    "    if not p2.est_vide():\n",
    "        resultat = False\n",
    "    while not t1.est_vide():\n",
    "        p1.empile(t1.depile())\n",
    "    while not t2.est_vide():\n",
    "        p2.empile(t2.depile())\n",
    "    return resultat"
   ],
   "metadata": {
    "collapsed": false,
    "ExecuteTime": {
     "end_time": "2023-07-13T13:57:41.813368100Z",
     "start_time": "2023-07-13T13:57:41.705716300Z"
    }
   }
  },
  {
   "cell_type": "code",
   "execution_count": 12,
   "outputs": [],
   "source": [
    "p1 = Pile()"
   ],
   "metadata": {
    "collapsed": false,
    "ExecuteTime": {
     "end_time": "2023-07-13T13:57:41.814369900Z",
     "start_time": "2023-07-13T13:57:41.711664900Z"
    }
   }
  },
  {
   "cell_type": "code",
   "execution_count": 13,
   "outputs": [],
   "source": [
    "p2 = Pile()"
   ],
   "metadata": {
    "collapsed": false,
    "ExecuteTime": {
     "end_time": "2023-07-13T13:57:41.814369900Z",
     "start_time": "2023-07-13T13:57:41.718745200Z"
    }
   }
  },
  {
   "cell_type": "code",
   "execution_count": 14,
   "outputs": [],
   "source": [
    "p1.empile(1)"
   ],
   "metadata": {
    "collapsed": false,
    "ExecuteTime": {
     "end_time": "2023-07-13T13:57:41.814369900Z",
     "start_time": "2023-07-13T13:57:41.724534800Z"
    }
   }
  },
  {
   "cell_type": "code",
   "execution_count": 15,
   "outputs": [
    {
     "data": {
      "text/plain": "False"
     },
     "execution_count": 15,
     "metadata": {},
     "output_type": "execute_result"
    }
   ],
   "source": [
    "identiques(p1,p2)"
   ],
   "metadata": {
    "collapsed": false,
    "ExecuteTime": {
     "end_time": "2023-07-13T13:57:41.814369900Z",
     "start_time": "2023-07-13T13:57:41.730741400Z"
    }
   }
  },
  {
   "cell_type": "code",
   "execution_count": 16,
   "outputs": [],
   "source": [
    "p2.empile(2)"
   ],
   "metadata": {
    "collapsed": false,
    "ExecuteTime": {
     "end_time": "2023-07-13T13:57:41.814369900Z",
     "start_time": "2023-07-13T13:57:41.737315700Z"
    }
   }
  },
  {
   "cell_type": "code",
   "execution_count": 17,
   "outputs": [],
   "source": [
    "p2.empile(1)"
   ],
   "metadata": {
    "collapsed": false,
    "ExecuteTime": {
     "end_time": "2023-07-13T13:57:41.814369900Z",
     "start_time": "2023-07-13T13:57:41.742920600Z"
    }
   }
  },
  {
   "cell_type": "code",
   "execution_count": 18,
   "outputs": [
    {
     "data": {
      "text/plain": "--------------------\n|        1         |\n--------------------\n"
     },
     "execution_count": 18,
     "metadata": {},
     "output_type": "execute_result"
    }
   ],
   "source": [
    "p1"
   ],
   "metadata": {
    "collapsed": false,
    "ExecuteTime": {
     "end_time": "2023-07-13T13:57:41.815370200Z",
     "start_time": "2023-07-13T13:57:41.749902100Z"
    }
   }
  },
  {
   "cell_type": "code",
   "execution_count": 19,
   "outputs": [
    {
     "data": {
      "text/plain": "--------------------\n|        1         |\n--------------------\n|        2         |\n--------------------\n"
     },
     "execution_count": 19,
     "metadata": {},
     "output_type": "execute_result"
    }
   ],
   "source": [
    "p2"
   ],
   "metadata": {
    "collapsed": false,
    "ExecuteTime": {
     "end_time": "2023-07-13T13:57:41.815370200Z",
     "start_time": "2023-07-13T13:57:41.756836800Z"
    }
   }
  },
  {
   "cell_type": "code",
   "execution_count": 20,
   "outputs": [
    {
     "data": {
      "text/plain": "False"
     },
     "execution_count": 20,
     "metadata": {},
     "output_type": "execute_result"
    }
   ],
   "source": [
    "identiques(p1,p2)"
   ],
   "metadata": {
    "collapsed": false,
    "ExecuteTime": {
     "end_time": "2023-07-13T13:57:41.815370200Z",
     "start_time": "2023-07-13T13:57:41.763158900Z"
    }
   }
  },
  {
   "cell_type": "code",
   "execution_count": 21,
   "outputs": [
    {
     "data": {
      "text/plain": "--------------------\n|        1         |\n--------------------\n"
     },
     "execution_count": 21,
     "metadata": {},
     "output_type": "execute_result"
    }
   ],
   "source": [
    "p1"
   ],
   "metadata": {
    "collapsed": false,
    "ExecuteTime": {
     "end_time": "2023-07-13T13:57:41.815370200Z",
     "start_time": "2023-07-13T13:57:41.769562Z"
    }
   }
  },
  {
   "cell_type": "code",
   "execution_count": 22,
   "outputs": [
    {
     "data": {
      "text/plain": "--------------------\n|        1         |\n--------------------\n|        2         |\n--------------------\n"
     },
     "execution_count": 22,
     "metadata": {},
     "output_type": "execute_result"
    }
   ],
   "source": [
    "p2"
   ],
   "metadata": {
    "collapsed": false,
    "ExecuteTime": {
     "end_time": "2023-07-13T13:57:41.815370200Z",
     "start_time": "2023-07-13T13:57:41.775774400Z"
    }
   }
  },
  {
   "cell_type": "code",
   "execution_count": 23,
   "outputs": [
    {
     "data": {
      "text/plain": "True"
     },
     "execution_count": 23,
     "metadata": {},
     "output_type": "execute_result"
    }
   ],
   "source": [
    "p1 = Pile()\n",
    "p1.empile(2)\n",
    "p1.empile(1)\n",
    "identiques(p1,p2)"
   ],
   "metadata": {
    "collapsed": false,
    "ExecuteTime": {
     "end_time": "2023-07-13T13:57:41.815370200Z",
     "start_time": "2023-07-13T13:57:41.782000200Z"
    }
   }
  },
  {
   "cell_type": "code",
   "execution_count": 24,
   "outputs": [
    {
     "data": {
      "text/plain": "--------------------\n|        1         |\n--------------------\n|        2         |\n--------------------\n"
     },
     "execution_count": 24,
     "metadata": {},
     "output_type": "execute_result"
    }
   ],
   "source": [
    "p1"
   ],
   "metadata": {
    "collapsed": false,
    "ExecuteTime": {
     "end_time": "2023-07-13T13:57:41.915449200Z",
     "start_time": "2023-07-13T13:57:41.804743100Z"
    }
   }
  },
  {
   "cell_type": "code",
   "execution_count": 25,
   "outputs": [
    {
     "data": {
      "text/plain": "--------------------\n|        1         |\n--------------------\n|        2         |\n--------------------\n"
     },
     "execution_count": 25,
     "metadata": {},
     "output_type": "execute_result"
    }
   ],
   "source": [
    "p2"
   ],
   "metadata": {
    "collapsed": false,
    "ExecuteTime": {
     "end_time": "2023-07-13T13:57:41.915449200Z",
     "start_time": "2023-07-13T13:57:41.804743100Z"
    }
   }
  },
  {
   "cell_type": "code",
   "execution_count": 26,
   "outputs": [],
   "source": [
    "p3 = Pile()"
   ],
   "metadata": {
    "collapsed": false,
    "ExecuteTime": {
     "end_time": "2023-07-13T13:57:41.915449200Z",
     "start_time": "2023-07-13T13:57:41.804743100Z"
    }
   }
  },
  {
   "cell_type": "code",
   "execution_count": 27,
   "outputs": [
    {
     "data": {
      "text/plain": "False"
     },
     "execution_count": 27,
     "metadata": {},
     "output_type": "execute_result"
    }
   ],
   "source": [
    "identiques(p3,p2)"
   ],
   "metadata": {
    "collapsed": false,
    "ExecuteTime": {
     "end_time": "2023-07-13T13:57:41.915449200Z",
     "start_time": "2023-07-13T13:57:41.807327Z"
    }
   }
  },
  {
   "cell_type": "code",
   "execution_count": 35,
   "outputs": [],
   "source": [
    "def ordre_faro(n: int) -> int:\n",
    "    j = produire_jeu(n)\n",
    "    f = produire_jeu(n)\n",
    "    k = 1\n",
    "    f = faro(f,n)\n",
    "    while not identiques(j,f):\n",
    "        f = faro(f,n)\n",
    "        k += 1\n",
    "    return k\n"
   ],
   "metadata": {
    "collapsed": false,
    "ExecuteTime": {
     "end_time": "2023-07-13T13:58:29.340263300Z",
     "start_time": "2023-07-13T13:58:29.334754700Z"
    }
   }
  },
  {
   "cell_type": "code",
   "execution_count": 39,
   "outputs": [
    {
     "data": {
      "text/plain": "6"
     },
     "execution_count": 39,
     "metadata": {},
     "output_type": "execute_result"
    }
   ],
   "source": [],
   "metadata": {
    "collapsed": false,
    "ExecuteTime": {
     "end_time": "2023-07-13T13:58:47.003805900Z",
     "start_time": "2023-07-13T13:58:46.997509300Z"
    }
   }
  },
  {
   "cell_type": "code",
   "execution_count": 29,
   "outputs": [],
   "source": [],
   "metadata": {
    "collapsed": false,
    "ExecuteTime": {
     "end_time": "2023-07-13T13:57:51.647853Z",
     "start_time": "2023-07-13T13:57:51.633336800Z"
    }
   }
  }
 ],
 "metadata": {
  "kernelspec": {
   "display_name": "Python 3",
   "language": "python",
   "name": "python3"
  },
  "language_info": {
   "codemirror_mode": {
    "name": "ipython",
    "version": 2
   },
   "file_extension": ".py",
   "mimetype": "text/x-python",
   "name": "python",
   "nbconvert_exporter": "python",
   "pygments_lexer": "ipython2",
   "version": "2.7.6"
  }
 },
 "nbformat": 4,
 "nbformat_minor": 0
}
