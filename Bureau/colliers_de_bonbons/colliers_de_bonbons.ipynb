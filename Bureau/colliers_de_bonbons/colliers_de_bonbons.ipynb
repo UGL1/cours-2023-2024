{
 "cells": [
  {
   "cell_type": "markdown",
   "metadata": {},
   "source": [
    "Un collier de bonbons se présente sous la forme d'un élastique circulaire sur lequel sont enfilés $n$ bonbons numérotés de 0 à $n-1$, où $n$ est un entier non nul qu'on appellera la *taille* du collier.\n",
    "<figure>\n",
    "<img src=\"img/photo_collier.jpg\" width=50%>\n",
    "    <figcaption style=\"text-align:center\">Source : pixabay.com</figcaption>\n",
    "    </figure>\n",
    "\n",
    "\n",
    "On part du « bonbon zéro », puis on avance de trois bonbons et on en croque un.\n",
    "\n",
    "On continue jusqu'à ce qu'il n'y ait plus aucun bonbon. L'objectif de cet exercice est de connaître l'ordre dans lequel les bonbons sont croqués.\n",
    "\n",
    "Par exemple avec un collier de taille 5 :\n",
    "\n",
    "<img src=\"img/exemple_5.png\" width=100%>\n",
    "\n",
    "Les bonbons sont croqués dans l'ordre suivant : 3, 1, 0, 2, 4.\n",
    "\n",
    "## Question 1\n",
    "\n",
    "Donner l'ordre dans lequel les bonbons d'un collier de taille 7 sont croqués.\n",
    "\n",
    "<img src=\"img/exemple_7.png\" width=19%>"
   ]
  },
  {
   "cell_type": "raw",
   "metadata": {
    "collapsed": true
   },
   "source": [
    "L'ordre est 3, 6, 2, 0, 5, 1, 4."
   ]
  },
  {
   "cell_type": "markdown",
   "metadata": {},
   "source": [
    "On décide de représenter un collier à l'aide de la classe `Bonbon`, que l'on souhaite utiliser de la manière suivante :\n",
    "Pour disposer d'un collier de taille 3 tel que celui-ci :\n",
    "<img src=\"img/exemple_3.png\" width=11%>\n",
    "\n",
    "On écrira :\n",
    "```python\n",
    "depart = Bonbon(0, None) # On crée un bonbon numéro 0, sans successeur\n",
    "\n",
    "b1 = Bonbon(1, None) # On crée un bonbon numéro 1, sans successeur\n",
    "depart.succ = b1 # On connecte b1 à départ\n",
    "\n",
    "b2 = Bonbon(2, None) # On crée un bonbon numéro 2\n",
    "b1.succ = b2 # On connecte b2 à b1\n",
    "\n",
    "b2.succ = depart # On referme le collier\n",
    "```\n",
    "Chaque instance de la classe `Bonbon` possède donc 2 uniques *attributs* :\n",
    "- `num`, qui contient un entier, qui est le numlero du bonbon ;\n",
    "- `succ`, qui est soit `None`, soit une autre instance de `Bonbon` qui est le bonbon suivant.\n",
    "\n",
    "## Question 2\n",
    "\n",
    "Rappeler les définitions d'*attribut d'instance* et de *méthode d'instance* dans le vocabulaire de la programmation orientée objet."
   ]
  },
  {
   "cell_type": "raw",
   "metadata": {},
   "source": [
    "Un attribut d'instance est une variable attachée à chaque instance de la classe.\n",
    "Une méthode d'instance est une fonction attachée à chaque instance de la classe."
   ]
  },
  {
   "cell_type": "markdown",
   "metadata": {},
   "source": [
    "## Question 3\n",
    "\n",
    "Compléter le code suivant pour qu'il permette d'utiliser la classe `Bonbon` comme dans l'exemple précédent.\n",
    "```python\n",
    "class Bonbon:\n",
    "    def __init__(self, ..., ...):\n",
    "        ...\n",
    "        ...\n",
    "```"
   ]
  },
  {
   "cell_type": "code",
   "execution_count": 20,
   "metadata": {
    "ExecuteTime": {
     "end_time": "2023-07-11T07:16:57.721128300Z",
     "start_time": "2023-07-11T07:16:57.716619900Z"
    }
   },
   "outputs": [],
   "source": [
    "class Bonbon:\n",
    "    def __init__(self, num, succ):\n",
    "        self.num = num\n",
    "        self.succ = succ"
   ]
  },
  {
   "cell_type": "markdown",
   "metadata": {},
   "source": [
    "# EN PLAN À PARTIR DE CE POINT\n",
    "\n",
    "Faire écrire ou compléter la fonction `produire_collier` qui :\n",
    "- en entrée prend un `int` n ;\n",
    "- renvoie une instance de la classe `Bonbon` qui est le bonbon numéro zéro d'un collier de taille n."
   ]
  },
  {
   "cell_type": "code",
   "execution_count": 21,
   "metadata": {
    "ExecuteTime": {
     "end_time": "2023-07-11T07:17:00.425519700Z",
     "start_time": "2023-07-11T07:17:00.421514600Z"
    }
   },
   "outputs": [],
   "source": [
    "def produire_collier(n: int) -> Bonbon:\n",
    "    depart = Bonbon(0, None)\n",
    "    courant = depart\n",
    "    for i in range(1, n):\n",
    "        courant.succ = Bonbon(i, None)\n",
    "        courant = courant.succ\n",
    "    courant.succ = depart\n",
    "    return depart"
   ]
  },
  {
   "cell_type": "markdown",
   "metadata": {},
   "source": [
    "Faire écrire (OU PAS) une fonction `parcourir_collier` qui :\n",
    "- en entrée prend une instance de la classe `Bonbon` qui est un composant d'un collier ;\n",
    "- renvoie la liste des numéros des bonbons du collier dans l'ordre de parcours."
   ]
  },
  {
   "cell_type": "code",
   "execution_count": 22,
   "metadata": {
    "ExecuteTime": {
     "end_time": "2023-07-11T07:17:01.360512800Z",
     "start_time": "2023-07-11T07:17:01.358005100Z"
    }
   },
   "outputs": [],
   "source": [
    "def parcourir_collier(depart: Bonbon) -> list[int]:\n",
    "    parcours = [depart.num]\n",
    "    courant = depart.succ\n",
    "    while courant.num != depart.num:\n",
    "        parcours.append(courant.num)\n",
    "        courant = courant.succ\n",
    "    return parcours"
   ]
  },
  {
   "cell_type": "code",
   "execution_count": 23,
   "metadata": {
    "ExecuteTime": {
     "end_time": "2023-07-11T07:17:01.659203800Z",
     "start_time": "2023-07-11T07:17:01.655153600Z"
    }
   },
   "outputs": [
    {
     "data": {
      "text/plain": [
       "[0, 1, 2, 3, 4, 5, 6, 7, 8, 9]"
      ]
     },
     "execution_count": 23,
     "metadata": {},
     "output_type": "execute_result"
    }
   ],
   "source": [
    "parcourir_collier(produire_collier(10))"
   ]
  },
  {
   "cell_type": "markdown",
   "metadata": {},
   "source": [
    "Faire compléter le code suivant avec, si besoin est, une question intermédiaire en utilisant un collier de taille 3 et en montrant comment on enlève un bonbon ?"
   ]
  },
  {
   "cell_type": "code",
   "execution_count": 24,
   "metadata": {
    "ExecuteTime": {
     "end_time": "2023-07-11T07:17:06.346613900Z",
     "start_time": "2023-07-11T07:17:06.343610Z"
    }
   },
   "outputs": [],
   "source": [
    "def manger_collier(n) -> list[int]:\n",
    "    courant = produire_collier(n)\n",
    "    ordre = []\n",
    "    for i in range(n):\n",
    "        courant = courant.succ.succ\n",
    "        ordre.append(courant.succ.num)\n",
    "        courant.succ = courant.succ.succ\n",
    "    return ordre"
   ]
  },
  {
   "cell_type": "code",
   "execution_count": 19,
   "metadata": {
    "ExecuteTime": {
     "end_time": "2023-07-11T07:13:55.864592900Z",
     "start_time": "2023-07-11T07:13:55.863590100Z"
    }
   },
   "outputs": [
    {
     "data": {
      "text/plain": [
       "[3, 6, 2, 0, 5, 1, 4]"
      ]
     },
     "execution_count": 19,
     "metadata": {},
     "output_type": "execute_result"
    }
   ],
   "source": [
    "manger_collier(7)"
   ]
  },
  {
   "cell_type": "code",
   "execution_count": null,
   "metadata": {},
   "outputs": [],
   "source": []
  }
 ],
 "metadata": {
  "kernelspec": {
   "display_name": "Python 3 (ipykernel)",
   "language": "python",
   "name": "python3"
  },
  "language_info": {
   "codemirror_mode": {
    "name": "ipython",
    "version": 3
   },
   "file_extension": ".py",
   "mimetype": "text/x-python",
   "name": "python",
   "nbconvert_exporter": "python",
   "pygments_lexer": "ipython3",
   "version": "3.11.3"
  }
 },
 "nbformat": 4,
 "nbformat_minor": 1
}
