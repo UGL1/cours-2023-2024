{
 "cells": [
  {
   "cell_type": "code",
   "execution_count": null,
   "metadata": {
    "collapsed": true
   },
   "outputs": [],
   "source": []
  },
  {
   "cell_type": "code",
   "execution_count": 6,
   "outputs": [],
   "source": [
    "class LDC:\n",
    "    def __init__(self, element, pred, succ):\n",
    "        self.elt = element\n",
    "        self.succ = succ\n",
    "        self.pred = pred\n",
    "\n",
    "    def __repr__(self):\n",
    "        return f\"({'NON' if self.pred is None else 'CONN'}, {self.elt}, {'NON' if self.succ is None else 'CONN'})\""
   ],
   "metadata": {
    "collapsed": false,
    "ExecuteTime": {
     "end_time": "2023-07-13T08:18:44.594716600Z",
     "start_time": "2023-07-13T08:18:44.592208900Z"
    }
   }
  },
  {
   "cell_type": "code",
   "execution_count": 7,
   "outputs": [],
   "source": [
    "d = LDC(0,None,None)"
   ],
   "metadata": {
    "collapsed": false,
    "ExecuteTime": {
     "end_time": "2023-07-13T08:18:44.855869500Z",
     "start_time": "2023-07-13T08:18:44.853394900Z"
    }
   }
  },
  {
   "cell_type": "code",
   "execution_count": 8,
   "outputs": [
    {
     "data": {
      "text/plain": "(NON, 0, NON)"
     },
     "execution_count": 8,
     "metadata": {},
     "output_type": "execute_result"
    }
   ],
   "source": [
    "d"
   ],
   "metadata": {
    "collapsed": false,
    "ExecuteTime": {
     "end_time": "2023-07-13T08:18:45.144416200Z",
     "start_time": "2023-07-13T08:18:45.142252300Z"
    }
   }
  },
  {
   "cell_type": "code",
   "execution_count": 9,
   "outputs": [],
   "source": [
    "d.succ = LDC(1,d,None)"
   ],
   "metadata": {
    "collapsed": false,
    "ExecuteTime": {
     "end_time": "2023-07-13T08:19:02.413613300Z",
     "start_time": "2023-07-13T08:19:02.411611300Z"
    }
   }
  },
  {
   "cell_type": "code",
   "execution_count": 10,
   "outputs": [
    {
     "data": {
      "text/plain": "(NON, 0, CONN)"
     },
     "execution_count": 10,
     "metadata": {},
     "output_type": "execute_result"
    }
   ],
   "source": [
    "d"
   ],
   "metadata": {
    "collapsed": false,
    "ExecuteTime": {
     "end_time": "2023-07-13T08:19:04.363117800Z",
     "start_time": "2023-07-13T08:19:04.360114300Z"
    }
   }
  },
  {
   "cell_type": "code",
   "execution_count": 11,
   "outputs": [
    {
     "data": {
      "text/plain": "(CONN, 1, NON)"
     },
     "execution_count": 11,
     "metadata": {},
     "output_type": "execute_result"
    }
   ],
   "source": [
    "d.succ"
   ],
   "metadata": {
    "collapsed": false,
    "ExecuteTime": {
     "end_time": "2023-07-13T08:19:08.209894500Z",
     "start_time": "2023-07-13T08:19:08.206890500Z"
    }
   }
  },
  {
   "cell_type": "code",
   "execution_count": 12,
   "outputs": [],
   "source": [
    "d.succ.succ = d\n",
    "d.pred = d.succ"
   ],
   "metadata": {
    "collapsed": false,
    "ExecuteTime": {
     "end_time": "2023-07-13T08:19:46.127086700Z",
     "start_time": "2023-07-13T08:19:46.124083800Z"
    }
   }
  },
  {
   "cell_type": "code",
   "execution_count": 13,
   "outputs": [
    {
     "data": {
      "text/plain": "(CONN, 0, CONN)"
     },
     "execution_count": 13,
     "metadata": {},
     "output_type": "execute_result"
    }
   ],
   "source": [
    "d"
   ],
   "metadata": {
    "collapsed": false,
    "ExecuteTime": {
     "end_time": "2023-07-13T08:19:50.327623Z",
     "start_time": "2023-07-13T08:19:50.325620900Z"
    }
   }
  },
  {
   "cell_type": "code",
   "execution_count": 14,
   "outputs": [
    {
     "data": {
      "text/plain": "(CONN, 1, CONN)"
     },
     "execution_count": 14,
     "metadata": {},
     "output_type": "execute_result"
    }
   ],
   "source": [
    "d.succ"
   ],
   "metadata": {
    "collapsed": false,
    "ExecuteTime": {
     "end_time": "2023-07-13T08:19:54.066585500Z",
     "start_time": "2023-07-13T08:19:54.063582500Z"
    }
   }
  },
  {
   "cell_type": "code",
   "execution_count": 24,
   "outputs": [],
   "source": [
    "def parcours(b: LDC):\n",
    "    courant = b\n",
    "    print(b, end= \" \")\n",
    "    courant = courant.succ\n",
    "    while courant.elt != b.elt:\n",
    "        print(courant, end=\" \")\n",
    "        courant = courant.succ"
   ],
   "metadata": {
    "collapsed": false,
    "ExecuteTime": {
     "end_time": "2023-07-13T08:20:52.453427900Z",
     "start_time": "2023-07-13T08:20:52.449921300Z"
    }
   }
  },
  {
   "cell_type": "code",
   "execution_count": 25,
   "outputs": [
    {
     "name": "stdout",
     "output_type": "stream",
     "text": [
      "(CONN, 0, CONN) (CONN, 1, CONN) "
     ]
    }
   ],
   "source": [
    "parcours(d)"
   ],
   "metadata": {
    "collapsed": false,
    "ExecuteTime": {
     "end_time": "2023-07-13T08:20:52.666240600Z",
     "start_time": "2023-07-13T08:20:52.661732400Z"
    }
   }
  },
  {
   "cell_type": "code",
   "execution_count": 27,
   "outputs": [],
   "source": [
    "def produire_collier(n: int) -> LDC:\n",
    "    depart = LDC(0, None, None)\n",
    "    courant = depart\n",
    "    for i in range(1, n):\n",
    "        suivant = LDC(i, courant, None)\n",
    "        courant.succ = suivant\n",
    "        courant = courant.succ\n",
    "    depart.pred = courant\n",
    "    courant.succ = depart\n",
    "    return depart"
   ],
   "metadata": {
    "collapsed": false,
    "ExecuteTime": {
     "end_time": "2023-07-13T08:22:03.111338500Z",
     "start_time": "2023-07-13T08:22:03.107831Z"
    }
   }
  },
  {
   "cell_type": "code",
   "execution_count": 28,
   "outputs": [
    {
     "name": "stdout",
     "output_type": "stream",
     "text": [
      "(CONN, 0, CONN) (CONN, 1, CONN) (CONN, 2, CONN) (CONN, 3, CONN) (CONN, 4, CONN) (CONN, 5, CONN) (CONN, 6, CONN) "
     ]
    }
   ],
   "source": [
    "parcours(produire_collier(7))"
   ],
   "metadata": {
    "collapsed": false,
    "ExecuteTime": {
     "end_time": "2023-07-13T08:22:10.099170700Z",
     "start_time": "2023-07-13T08:22:10.096167900Z"
    }
   }
  },
  {
   "cell_type": "code",
   "execution_count": 29,
   "outputs": [],
   "source": [
    "def obtenir_ordre(n: int) -> list[int]:\n",
    "    courant = produire_collier(n)\n",
    "    ordre = []\n",
    "    for i in range(n):\n",
    "        ordre.append(courant.elt)\n",
    "        avant = courant.pred\n",
    "        apres = courant.succ\n",
    "        avant.succ = apres\n",
    "        apres.pred = avant\n",
    "        courant = apres.succ.succ\n",
    "    return ordre\n"
   ],
   "metadata": {
    "collapsed": false,
    "ExecuteTime": {
     "end_time": "2023-07-13T08:22:23.703442900Z",
     "start_time": "2023-07-13T08:22:23.700439800Z"
    }
   }
  },
  {
   "cell_type": "code",
   "execution_count": 30,
   "outputs": [
    {
     "data": {
      "text/plain": "[0, 3, 6, 4, 2, 5, 1]"
     },
     "execution_count": 30,
     "metadata": {},
     "output_type": "execute_result"
    }
   ],
   "source": [
    "obtenir_ordre(7)"
   ],
   "metadata": {
    "collapsed": false,
    "ExecuteTime": {
     "end_time": "2023-07-13T08:22:28.369619600Z",
     "start_time": "2023-07-13T08:22:28.366616900Z"
    }
   }
  },
  {
   "cell_type": "code",
   "execution_count": null,
   "outputs": [],
   "source": [],
   "metadata": {
    "collapsed": false
   }
  }
 ],
 "metadata": {
  "kernelspec": {
   "display_name": "Python 3",
   "language": "python",
   "name": "python3"
  },
  "language_info": {
   "codemirror_mode": {
    "name": "ipython",
    "version": 2
   },
   "file_extension": ".py",
   "mimetype": "text/x-python",
   "name": "python",
   "nbconvert_exporter": "python",
   "pygments_lexer": "ipython2",
   "version": "2.7.6"
  }
 },
 "nbformat": 4,
 "nbformat_minor": 0
}
